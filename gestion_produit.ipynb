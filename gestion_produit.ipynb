{
 "cells": [
  {
   "cell_type": "markdown",
   "id": "3d138502-f9dc-4058-aff8-cc7c38ee1e54",
   "metadata": {},
   "source": [
    "# TP sur python"
   ]
  },
  {
   "cell_type": "markdown",
   "id": "4881a673-5b67-4c3b-81f2-d3293be45821",
   "metadata": {},
   "source": [
    "## Application pratique \n",
    "Un magasin enregistre ses ventes quotidiennes sous forme de liste de dictionnaires. Chaque dictionnaire contient les informations suivantes : \n"
   ]
  },
  {
   "cell_type": "code",
   "execution_count": 10,
   "id": "c780723f-de9f-43b0-a81c-206eae5413a9",
   "metadata": {},
   "outputs": [],
   "source": [
    "\n",
    "    # Liste des ventes quotidiennes enregistrées\n",
    "ventes = [\n",
    "    {\"produit\": \"ordinateur\", \"quantité\": 5, \"prix_unitaire\": 800},\n",
    "    {\"produit\": \"smartphone\", \"quantité\": 10, \"prix_unitaire\": 500},\n",
    "    {\"produit\": \"tablette\", \"quantité\": 8, \"prix_unitaire\": 300}\n",
    "]\n",
    "\n"
   ]
  },
  {
   "cell_type": "code",
   "execution_count": 11,
   "id": "eeecc973-9d0e-46a7-8095-45cbf169c335",
   "metadata": {},
   "outputs": [
    {
     "name": "stdout",
     "output_type": "stream",
     "text": [
      "Produit: ordinateur, Total des ventes: 4000 euros\n",
      "Produit: smartphone, Total des ventes: 5000 euros\n",
      "Produit: tablette, Total des ventes: 2400 euros\n"
     ]
    }
   ],
   "source": [
    "# 1. Calculer le total des ventes pour chaque produit\n",
    "for vente in ventes:\n",
    "    vente_total = vente[\"quantité\"] * vente[\"prix_unitaire\"]\n",
    "    vente[\"total_vente\"] = vente_total  # Ajout du total dans chaque dictionnaire\n",
    "    print(f\"Produit: {vente['produit']}, Total des ventes: {vente_total} euros\")\n",
    "\n"
   ]
  },
  {
   "cell_type": "code",
   "execution_count": 12,
   "id": "1def2ad6-18b0-4cd0-a70d-dbfbf9e98173",
   "metadata": {},
   "outputs": [
    {
     "name": "stdout",
     "output_type": "stream",
     "text": [
      "Chiffre d'affaires total : 11400 euros\n"
     ]
    }
   ],
   "source": [
    "# On commence par calculer le chiffre d'affaires total.\n",
    "# Pour cela, on additionne les valeurs \"total_vente\" de chaque vente dans la liste \"ventes\".\n",
    "chiffre_affaires = 0  # Initialisation du chiffre d'affaires à 0\n",
    "for vente in ventes:  # On parcourt chaque élément (vente) de la liste \"ventes\"\n",
    "    chiffre_affaires += vente[\"total_vente\"]  # On ajoute le montant \"total_vente\" de la vente au chiffre d'affaires\n",
    "\n",
    "# Ensuite, on affiche le chiffre d'affaires total\n",
    "print(\"Chiffre d'affaires total :\", chiffre_affaires, \"euros\")\n"
   ]
  },
  {
   "cell_type": "code",
   "execution_count": 6,
   "id": "53d1075b-c8a1-4cda-9ed1-18daef7611de",
   "metadata": {},
   "outputs": [
    {
     "name": "stdout",
     "output_type": "stream",
     "text": [
      "\n",
      "Nouvelle vente ajoutée : {'produit': 'imprimante', 'quantité': 3, 'prix_unitaire': 150, 'total_vente': 450}\n"
     ]
    }
   ],
   "source": [
    "# 3. Ajouter une nouvelle vente au tableau\n",
    "nouvelle_vente = {\"produit\": \"imprimante\", \"quantité\": 3, \"prix_unitaire\": 150}\n",
    "nouvelle_vente[\"total_vente\"] = nouvelle_vente[\"quantité\"] * nouvelle_vente[\"prix_unitaire\"]\n",
    "ventes.append(nouvelle_vente)\n",
    "print(f\"\\nNouvelle vente ajoutée : {nouvelle_vente}\")\n",
    "\n"
   ]
  },
  {
   "cell_type": "code",
   "execution_count": 5,
   "id": "e3754de0-adcd-4b0a-bd9f-dddedba166e8",
   "metadata": {},
   "outputs": [
    {
     "name": "stdout",
     "output_type": "stream",
     "text": [
      "\n",
      "Produits avec des ventes totales supérieures à 1000 euros:\n",
      "- ordinateur: 4000 euros\n",
      "- smartphone: 5000 euros\n",
      "- tablette: 2400 euros\n"
     ]
    }
   ],
   "source": [
    "# 4. Afficher les produits dont les ventes totales dépassent 1000 euros\n",
    "print(\"\\nProduits avec des ventes totales supérieures à 1000 euros:\")\n",
    "for vente in ventes:\n",
    "    if vente[\"total_vente\"] > 1000:\n",
    "        print(f\"- {vente['produit']}: {vente['total_vente']} euros\")\n"
   ]
  },
  {
   "cell_type": "markdown",
   "id": "05cef366-b5e8-4db9-8152-59d824eeb188",
   "metadata": {},
   "source": [
    "## EXERCICE 2 : Temperature "
   ]
  },
  {
   "cell_type": "markdown",
   "id": "25e913f5-c9dd-475c-b342-10fc27344998",
   "metadata": {},
   "source": [
    "**Supposons que les temperatures soient des dictionnaires**"
   ]
  },
  {
   "cell_type": "code",
   "execution_count": 1,
   "id": "6f1c6760-032b-4fde-89ae-6cdc0295703e",
   "metadata": {},
   "outputs": [],
   "source": [
    "# Températures enregistrées pour chaque jour de la semaine\n",
    "temperatures = {\n",
    "    \"lundi\": 20,\n",
    "    \"mardi\": 22,\n",
    "    \"mercredi\": 19,\n",
    "    \"jeudi\": 24,\n",
    "    \"vendredi\": 21,\n",
    "    \"samedi\": 18,\n",
    "    \"dimanche\": 23\n",
    "}\n",
    "\n"
   ]
  },
  {
   "cell_type": "code",
   "execution_count": 2,
   "id": "fceb1157-7f63-43dd-b23a-17e4ba241d7b",
   "metadata": {},
   "outputs": [
    {
     "name": "stdout",
     "output_type": "stream",
     "text": [
      "Température moyenne de la semaine : 21.00°C\n"
     ]
    }
   ],
   "source": [
    "# 1. Trouver la température moyenne de la semaine\n",
    "temperature_moyenne = sum(temperatures.values()) / len(temperatures)\n",
    "print(f\"Température moyenne de la semaine : {temperature_moyenne:.2f}°C\")\n",
    "\n"
   ]
  },
  {
   "cell_type": "code",
   "execution_count": 3,
   "id": "4e0e811e-fceb-47c7-8951-f0cc31f47452",
   "metadata": {},
   "outputs": [
    {
     "name": "stdout",
     "output_type": "stream",
     "text": [
      "\n",
      "Jours avec une température inférieure à 20°C :\n",
      "mercredi, samedi\n"
     ]
    }
   ],
   "source": [
    "# 2. Identifier les jours où la température est inférieure à 20°C\n",
    "jours_froids = [jour for jour, temp in temperatures.items() if temp < 20]\n",
    "print(\"\\nJours avec une température inférieure à 20°C :\")\n",
    "print(\", \".join(jours_froids))\n",
    "\n"
   ]
  },
  {
   "cell_type": "code",
   "execution_count": 4,
   "id": "09ad4e41-7be9-4fe0-863a-38e1baa9ebae",
   "metadata": {},
   "outputs": [
    {
     "name": "stdout",
     "output_type": "stream",
     "text": [
      "\n",
      "Jour avec la température la plus élevée : jeudi (24°C)\n"
     ]
    }
   ],
   "source": [
    "# 3. Trouver le jour avec la température la plus élevée\n",
    "jour_max_temp = max(temperatures, key=temperatures.get)\n",
    "print(f\"\\nJour avec la température la plus élevée : {jour_max_temp} ({temperatures[jour_max_temp]}°C)\")\n"
   ]
  },
  {
   "cell_type": "markdown",
   "id": "87aba5ac-14b2-4e94-a97e-a2255c0fe9c6",
   "metadata": {},
   "source": [
    "**Liste de Tuple**"
   ]
  },
  {
   "cell_type": "code",
   "execution_count": 5,
   "id": "a89fd749-4bb1-45f1-a7e2-d0bdc5a11095",
   "metadata": {},
   "outputs": [],
   "source": [
    "temperatures = [\n",
    "    (\"Lundi\", 20) , (\"Mardi\", 22), (\"Mercredi\", 19), (\"Jeudi\", 24), (\"Vendredi\", 21), (\"Samedi\", 18), (\"Dimanche\", 23)   \n",
    "\n",
    "]\n",
    "\n"
   ]
  },
  {
   "cell_type": "code",
   "execution_count": 6,
   "id": "de8522d6-2bd0-4781-a3cc-2f871cffcf7e",
   "metadata": {},
   "outputs": [
    {
     "data": {
      "text/plain": [
       "[('Lundi', 20),\n",
       " ('Mardi', 22),\n",
       " ('Mercredi', 19),\n",
       " ('Jeudi', 24),\n",
       " ('Vendredi', 21),\n",
       " ('Samedi', 18),\n",
       " ('Dimanche', 23)]"
      ]
     },
     "execution_count": 6,
     "metadata": {},
     "output_type": "execute_result"
    }
   ],
   "source": [
    "temperatures"
   ]
  },
  {
   "cell_type": "code",
   "execution_count": 7,
   "id": "80c819f4-791a-458d-8e1a-c22c12e32bcb",
   "metadata": {},
   "outputs": [
    {
     "name": "stdout",
     "output_type": "stream",
     "text": [
      "Température moyenne de la semaine : 21.00°C\n"
     ]
    }
   ],
   "source": [
    "# Étape 1 : Calculer la somme des températures\n",
    "somme_temperatures = 0  # On commence avec une somme à 0\n",
    "for jour, temperature in temperatures:  # On parcourt chaque jour et sa température\n",
    "    somme_temperatures += temperature  # On ajoute la température du jour à la somme\n",
    "\n",
    "# Étape 2 : Calculer la température moyenne\n",
    "nombre_de_jours = len(temperatures)  # Le nombre total de jours\n",
    "temperature_moyenne = somme_temperatures / nombre_de_jours  # La moyenne est la somme divisée par le nombre de jours\n",
    "\n",
    "# Étape 3 : Afficher la température moyenne\n",
    "print(f\"Température moyenne de la semaine : {temperature_moyenne:.2f}°C\")\n"
   ]
  },
  {
   "cell_type": "code",
   "execution_count": 8,
   "id": "7aea771c-e613-4aad-800a-b41ab46c61de",
   "metadata": {},
   "outputs": [
    {
     "name": "stdout",
     "output_type": "stream",
     "text": [
      "\n",
      "Jours avec une température inférieure à 20°C :\n",
      "Mercredi, Samedi\n"
     ]
    }
   ],
   "source": [
    "jours_froids = []  # Une liste vide pour stocker les jours froids\n",
    "for jour, temp in temperatures:  # On parcourt chaque tuple (jour, température)\n",
    "    if temp < 20:  # Si la température est inférieure à 20\n",
    "        jours_froids.append(jour)  # Ajouter le jour à la liste des jours froids\n",
    "\n",
    "# Étape 2 : Afficher les jours froids\n",
    "print(\"\\nJours avec une température inférieure à 20°C :\")\n",
    "print(\", \".join(jours_froids))  # On affiche les jours en les séparant par des virgules"
   ]
  },
  {
   "cell_type": "code",
   "execution_count": 9,
   "id": "38bed807-30a2-4cb6-a345-ffd5fa994506",
   "metadata": {},
   "outputs": [
    {
     "name": "stdout",
     "output_type": "stream",
     "text": [
      "Le jour avec la température la plus élevée est Jeudi, avec 24°C.\n"
     ]
    }
   ],
   "source": [
    "# Étape 1 : Trouver le jour avec la température la plus élevée\n",
    "jour_max, temp_max = temperatures[0]  # On commence avec le premier jour comme référence\n",
    "for jour, temp in temperatures:  # On parcourt chaque jour et sa température\n",
    "    if temp > temp_max:  # Si on trouve une température plus élevée\n",
    "        jour_max, temp_max = jour, temp  # On met à jour le jour et la température maximale\n",
    "\n",
    "# Étape 2 : Afficher le résultat\n",
    "print(f\"Le jour avec la température la plus élevée est {jour_max}, avec {temp_max}°C.\")"
   ]
  },
  {
   "cell_type": "code",
   "execution_count": 10,
   "id": "4d52d7f1-1db2-4948-9242-77c0b2d87b72",
   "metadata": {},
   "outputs": [
    {
     "name": "stdout",
     "output_type": "stream",
     "text": [
      "Le jour le plus chaud est Jeudi avec une température de 24°C.\n"
     ]
    }
   ],
   "source": [
    "# Étape 1 : Trouver le jour avec la température la plus élevée\n",
    "jour_plus_chaud, temp_max = max(temperatures, key=lambda x: x[1])\n",
    "# Étape 2 : Afficher le jour avec la température la plus élevée\n",
    "print(f\"Le jour le plus chaud est {jour_plus_chaud} avec une température de {temp_max}°C.\")"
   ]
  }
 ],
 "metadata": {
  "kernelspec": {
   "display_name": "Python 3 (ipykernel)",
   "language": "python",
   "name": "python3"
  },
  "language_info": {
   "codemirror_mode": {
    "name": "ipython",
    "version": 3
   },
   "file_extension": ".py",
   "mimetype": "text/x-python",
   "name": "python",
   "nbconvert_exporter": "python",
   "pygments_lexer": "ipython3",
   "version": "3.12.3"
  }
 },
 "nbformat": 4,
 "nbformat_minor": 5
}
